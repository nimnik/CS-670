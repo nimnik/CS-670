{
  "nbformat": 4,
  "nbformat_minor": 0,
  "metadata": {
    "colab": {
      "provenance": []
    },
    "kernelspec": {
      "name": "python3",
      "display_name": "Python 3"
    },
    "language_info": {
      "name": "python"
    }
  },
  "cells": [
    {
      "cell_type": "code",
      "execution_count": 1,
      "metadata": {
        "id": "3yNhd9Z0wK8o"
      },
      "outputs": [],
      "source": [
        "from pandas import *"
      ]
    },
    {
      "cell_type": "code",
      "source": [
        "data = read_csv(\"Combined_News_DJIA.csv\")"
      ],
      "metadata": {
        "id": "zBVeieHGxEQ-"
      },
      "execution_count": 2,
      "outputs": []
    },
    {
      "cell_type": "code",
      "source": [
        "print(data.keys())\n",
        "print(len(data))\n",
        "print(data['Top2'][2])\n",
        "print(data['Top2'][2][2:-1])"
      ],
      "metadata": {
        "colab": {
          "base_uri": "https://localhost:8080/"
        },
        "id": "JuK0AbkUwo4O",
        "outputId": "32e7ae87-8d7e-4070-c67e-de9b97cfd5fa"
      },
      "execution_count": null,
      "outputs": [
        {
          "output_type": "stream",
          "name": "stdout",
          "text": [
            "Index(['Date', 'Label', 'Top1', 'Top2', 'Top3', 'Top4', 'Top5', 'Top6', 'Top7',\n",
            "       'Top8', 'Top9', 'Top10', 'Top11', 'Top12', 'Top13', 'Top14', 'Top15',\n",
            "       'Top16', 'Top17', 'Top18', 'Top19', 'Top20', 'Top21', 'Top22', 'Top23',\n",
            "       'Top24', 'Top25'],\n",
            "      dtype='object')\n",
            "1989\n",
            "b\"Russia 'ends Georgia operation'\"\n",
            "Russia 'ends Georgia operation'\n"
          ]
        }
      ]
    },
    {
      "cell_type": "code",
      "source": [
        "s = [\"Date\", \"Label\"]\n",
        "for i in range(1, 26):\n",
        "    s += [\"Top\" + str(i)]\n",
        "print(s)\n",
        "\n",
        "data_list = []\n",
        "\n",
        "for i in range(27):\n",
        "    data_list.append(data[s[i]].tolist())\n",
        "\n",
        "print(data_list[3][2])\n",
        "print(type(data_list[24][277]))"
      ],
      "metadata": {
        "colab": {
          "base_uri": "https://localhost:8080/"
        },
        "id": "yb0Gv_v71BuC",
        "outputId": "9da80544-c962-49dd-ca26-614474a989f9"
      },
      "execution_count": 3,
      "outputs": [
        {
          "output_type": "stream",
          "name": "stdout",
          "text": [
            "['Date', 'Label', 'Top1', 'Top2', 'Top3', 'Top4', 'Top5', 'Top6', 'Top7', 'Top8', 'Top9', 'Top10', 'Top11', 'Top12', 'Top13', 'Top14', 'Top15', 'Top16', 'Top17', 'Top18', 'Top19', 'Top20', 'Top21', 'Top22', 'Top23', 'Top24', 'Top25']\n",
            "b\"Russia 'ends Georgia operation'\"\n",
            "<class 'float'>\n"
          ]
        }
      ]
    },
    {
      "cell_type": "code",
      "source": [
        "count = 0\n",
        "try:\n",
        "    for i in range(2, 27):\n",
        "        for j in range(len(data)):\n",
        "            if type(data_list[i][j]) == float:\n",
        "                data_list[i][j] = \"None\"\n",
        "            else:\n",
        "                count += 1\n",
        "                data_list[i][j] = data_list[i][j][2:-1]\n",
        "except:\n",
        "    print(i, j,count)\n",
        "\n",
        "print(data_list[3][2])"
      ],
      "metadata": {
        "colab": {
          "base_uri": "https://localhost:8080/"
        },
        "id": "91_6NPs-4W7Z",
        "outputId": "4c5cf136-1a63-452b-e786-dfa7edfe398c"
      },
      "execution_count": 4,
      "outputs": [
        {
          "output_type": "stream",
          "name": "stdout",
          "text": [
            "Russia 'ends Georgia operation'\n"
          ]
        }
      ]
    },
    {
      "cell_type": "code",
      "source": [
        "all_words = [\"None\"]\n",
        "\n",
        "for i in range(2, 27):\n",
        "  for j in range(len(data)):\n",
        "    news = data_list[i][j].split()\n",
        "    for word in news:\n",
        "      if word not in all_words:\n",
        "        all_words.append(word)"
      ],
      "metadata": {
        "id": "WZ2ZitzS5PwV"
      },
      "execution_count": 5,
      "outputs": []
    },
    {
      "cell_type": "code",
      "source": [
        "print(len(all_words))"
      ],
      "metadata": {
        "colab": {
          "base_uri": "https://localhost:8080/"
        },
        "id": "ylmPg_L76_dT",
        "outputId": "975c77c9-1b52-485e-ce01-3ff19f7e096e"
      },
      "execution_count": 6,
      "outputs": [
        {
          "output_type": "stream",
          "name": "stdout",
          "text": [
            "89452\n"
          ]
        }
      ]
    },
    {
      "cell_type": "code",
      "source": [
        "data_dict = {}\n",
        "\n",
        "for i in range(len(all_words)):\n",
        "    data_dict[all_words[i]] = i+1"
      ],
      "metadata": {
        "id": "tfdjVl7O7ac7"
      },
      "execution_count": 7,
      "outputs": []
    },
    {
      "cell_type": "code",
      "source": [
        "len(data_dict)"
      ],
      "metadata": {
        "colab": {
          "base_uri": "https://localhost:8080/"
        },
        "id": "CbwL4E5F7kRU",
        "outputId": "42dad42d-5fb8-4baf-f2b4-b117bec99ed1"
      },
      "execution_count": 8,
      "outputs": [
        {
          "output_type": "execute_result",
          "data": {
            "text/plain": [
              "89452"
            ]
          },
          "metadata": {},
          "execution_count": 8
        }
      ]
    },
    {
      "cell_type": "code",
      "source": [
        "max_len = 0\n",
        "\n",
        "for i in range(2, 27):\n",
        "    for j in range(len(data)):\n",
        "      if len(data_list[i][j]) > max_len:\n",
        "          max_len = len(data_list[i][j])\n",
        "\n",
        "print(max_len)"
      ],
      "metadata": {
        "colab": {
          "base_uri": "https://localhost:8080/"
        },
        "id": "siUfrpXP7oeM",
        "outputId": "39825edc-5baf-4132-c5eb-2d7569159d6f"
      },
      "execution_count": 9,
      "outputs": [
        {
          "output_type": "stream",
          "name": "stdout",
          "text": [
            "309\n"
          ]
        }
      ]
    },
    {
      "cell_type": "code",
      "source": [
        "news_data = []\n",
        "for k in range(25):\n",
        "  news_data.append([])\n",
        "print(news_data)\n",
        "\n",
        "for i in range(2, 27):\n",
        "  for j in range(len(data)):\n",
        "    new_word = [0] * 309\n",
        "    count = 0\n",
        "    for word in data_list[i][j].split():\n",
        "      new_word[count] = data_dict[word]\n",
        "      count += 1\n",
        "    news_data[i-2].append(new_word)"
      ],
      "metadata": {
        "colab": {
          "base_uri": "https://localhost:8080/"
        },
        "id": "h2YAwr9H_TE3",
        "outputId": "3325c3f7-e531-4994-e467-be9c149e3f95"
      },
      "execution_count": 10,
      "outputs": [
        {
          "output_type": "stream",
          "name": "stdout",
          "text": [
            "[[], [], [], [], [], [], [], [], [], [], [], [], [], [], [], [], [], [], [], [], [], [], [], [], []]\n"
          ]
        }
      ]
    },
    {
      "cell_type": "code",
      "source": [
        "print(data_list[25][5])\n",
        "print(news_data[2][5])\n",
        "new_word = [0] * 309\n",
        "count = 0\n",
        "for word in data_list[4][5].split():\n",
        "  new_word[count] = data_dict[word]\n",
        "  count += 1\n",
        "print(new_word)\n",
        "\n",
        "len(news_data[1])"
      ],
      "metadata": {
        "colab": {
          "base_uri": "https://localhost:8080/"
        },
        "id": "mMWtWGsvA4Zx",
        "outputId": "bdad638f-98c3-4a06-ab12-a3dcdb110c3f"
      },
      "execution_count": 11,
      "outputs": [
        {
          "output_type": "stream",
          "name": "stdout",
          "text": [
            "Georgia is all about the oil pipelines\n",
            "[305, 1169, 191, 110, 192, 12, 6325, 1463, 32, 109, 66, 19216, 4524, 144, 1877, 12, 19217, 29, 38, 656, 29, 66, 2616, 51, 170, 38, 441, 5828, 144, 1048, 1049, 0, 0, 0, 0, 0, 0, 0, 0, 0, 0, 0, 0, 0, 0, 0, 0, 0, 0, 0, 0, 0, 0, 0, 0, 0, 0, 0, 0, 0, 0, 0, 0, 0, 0, 0, 0, 0, 0, 0, 0, 0, 0, 0, 0, 0, 0, 0, 0, 0, 0, 0, 0, 0, 0, 0, 0, 0, 0, 0, 0, 0, 0, 0, 0, 0, 0, 0, 0, 0, 0, 0, 0, 0, 0, 0, 0, 0, 0, 0, 0, 0, 0, 0, 0, 0, 0, 0, 0, 0, 0, 0, 0, 0, 0, 0, 0, 0, 0, 0, 0, 0, 0, 0, 0, 0, 0, 0, 0, 0, 0, 0, 0, 0, 0, 0, 0, 0, 0, 0, 0, 0, 0, 0, 0, 0, 0, 0, 0, 0, 0, 0, 0, 0, 0, 0, 0, 0, 0, 0, 0, 0, 0, 0, 0, 0, 0, 0, 0, 0, 0, 0, 0, 0, 0, 0, 0, 0, 0, 0, 0, 0, 0, 0, 0, 0, 0, 0, 0, 0, 0, 0, 0, 0, 0, 0, 0, 0, 0, 0, 0, 0, 0, 0, 0, 0, 0, 0, 0, 0, 0, 0, 0, 0, 0, 0, 0, 0, 0, 0, 0, 0, 0, 0, 0, 0, 0, 0, 0, 0, 0, 0, 0, 0, 0, 0, 0, 0, 0, 0, 0, 0, 0, 0, 0, 0, 0, 0, 0, 0, 0, 0, 0, 0, 0, 0, 0, 0, 0, 0, 0, 0, 0, 0, 0, 0, 0, 0, 0, 0, 0, 0, 0, 0, 0, 0, 0, 0, 0, 0, 0, 0, 0, 0, 0, 0, 0, 0, 0, 0, 0, 0, 0, 0, 0, 0, 0, 0, 0]\n",
            "[305, 1169, 191, 110, 192, 12, 6325, 1463, 32, 109, 66, 19216, 4524, 144, 1877, 12, 19217, 29, 38, 656, 29, 66, 2616, 51, 170, 38, 441, 5828, 144, 1048, 1049, 0, 0, 0, 0, 0, 0, 0, 0, 0, 0, 0, 0, 0, 0, 0, 0, 0, 0, 0, 0, 0, 0, 0, 0, 0, 0, 0, 0, 0, 0, 0, 0, 0, 0, 0, 0, 0, 0, 0, 0, 0, 0, 0, 0, 0, 0, 0, 0, 0, 0, 0, 0, 0, 0, 0, 0, 0, 0, 0, 0, 0, 0, 0, 0, 0, 0, 0, 0, 0, 0, 0, 0, 0, 0, 0, 0, 0, 0, 0, 0, 0, 0, 0, 0, 0, 0, 0, 0, 0, 0, 0, 0, 0, 0, 0, 0, 0, 0, 0, 0, 0, 0, 0, 0, 0, 0, 0, 0, 0, 0, 0, 0, 0, 0, 0, 0, 0, 0, 0, 0, 0, 0, 0, 0, 0, 0, 0, 0, 0, 0, 0, 0, 0, 0, 0, 0, 0, 0, 0, 0, 0, 0, 0, 0, 0, 0, 0, 0, 0, 0, 0, 0, 0, 0, 0, 0, 0, 0, 0, 0, 0, 0, 0, 0, 0, 0, 0, 0, 0, 0, 0, 0, 0, 0, 0, 0, 0, 0, 0, 0, 0, 0, 0, 0, 0, 0, 0, 0, 0, 0, 0, 0, 0, 0, 0, 0, 0, 0, 0, 0, 0, 0, 0, 0, 0, 0, 0, 0, 0, 0, 0, 0, 0, 0, 0, 0, 0, 0, 0, 0, 0, 0, 0, 0, 0, 0, 0, 0, 0, 0, 0, 0, 0, 0, 0, 0, 0, 0, 0, 0, 0, 0, 0, 0, 0, 0, 0, 0, 0, 0, 0, 0, 0, 0, 0, 0, 0, 0, 0, 0, 0, 0, 0, 0, 0, 0, 0, 0, 0, 0, 0, 0, 0, 0, 0, 0, 0, 0]\n"
          ]
        },
        {
          "output_type": "execute_result",
          "data": {
            "text/plain": [
              "1989"
            ]
          },
          "metadata": {},
          "execution_count": 11
        }
      ]
    },
    {
      "cell_type": "code",
      "source": [
        "num_features = 5\n",
        "train_input = []\n",
        "\n",
        "if num_features > 1:\n",
        "\n",
        "\n",
        "  for i in range(len(data)):\n",
        "    x = []\n",
        "    for j in range(num_features):\n",
        "      x += news_data[j][i]\n",
        "    train_input.append(x)\n",
        "\n",
        "else:\n",
        "  for i in range(len(data)):\n",
        "    train_input.append(news_data[0][i])\n",
        "\n",
        "print(len(train_input))\n",
        "print(len(train_input[0]))\n",
        "\n",
        "input_len = num_features * 309"
      ],
      "metadata": {
        "colab": {
          "base_uri": "https://localhost:8080/"
        },
        "id": "BcUKRZKYLkB4",
        "outputId": "659551c1-6c53-4679-e62d-38018aadf942"
      },
      "execution_count": 23,
      "outputs": [
        {
          "output_type": "stream",
          "name": "stdout",
          "text": [
            "1989\n",
            "1545\n"
          ]
        }
      ]
    },
    {
      "cell_type": "code",
      "source": [
        "train_label = data[\"Label\"].tolist()\n",
        "print(len(train_label))"
      ],
      "metadata": {
        "colab": {
          "base_uri": "https://localhost:8080/"
        },
        "id": "2QD9zvRCNrTX",
        "outputId": "9c616a3c-a0a4-4f33-cb2f-e98cbd35ef26"
      },
      "execution_count": 24,
      "outputs": [
        {
          "output_type": "stream",
          "name": "stdout",
          "text": [
            "1989\n"
          ]
        }
      ]
    },
    {
      "cell_type": "code",
      "source": [
        "#This code is coppied from the following source:\n",
        "# https://inside-machinelearning.com/en/a-simple-and-efficient-model-for-binary-classification-in-nlp/#Create_our_Deep_Learning_model_-_Binary_Classification_NLP\n",
        "\n",
        "import numpy as np\n",
        "\n",
        "train_input_array = np.array(train_input[:1500])\n",
        "train_label_array = np.array(train_label[:1500])"
      ],
      "metadata": {
        "id": "EikxlxaMQZKG"
      },
      "execution_count": 25,
      "outputs": []
    },
    {
      "cell_type": "code",
      "source": [
        "#This code is coppied from the following source:\n",
        "# https://inside-machinelearning.com/en/a-simple-and-efficient-model-for-binary-classification-in-nlp/#Create_our_Deep_Learning_model_-_Binary_Classification_NLP\n",
        "\n",
        "train_input_array = train_input_array.astype('float32')\n",
        "train_label_array = train_label_array.astype('float32')"
      ],
      "metadata": {
        "id": "C8Teot_eQwuF"
      },
      "execution_count": 26,
      "outputs": []
    },
    {
      "cell_type": "code",
      "source": [
        "#This code is coppied from the following source:\n",
        "# https://inside-machinelearning.com/en/a-simple-and-efficient-model-for-binary-classification-in-nlp/#Create_our_Deep_Learning_model_-_Binary_Classification_NLP\n",
        "\n",
        "from keras import models\n",
        "from keras import layers"
      ],
      "metadata": {
        "id": "bdUxyld9RSXO"
      },
      "execution_count": 16,
      "outputs": []
    },
    {
      "cell_type": "code",
      "source": [
        "#This code is coppied from the following source:\n",
        "# https://inside-machinelearning.com/en/a-simple-and-efficient-model-for-binary-classification-in-nlp/#Create_our_Deep_Learning_model_-_Binary_Classification_NLP\n",
        "\n",
        "model = models.Sequential()\n",
        "model.add(layers.Dense(16, activation='relu', input_shape=(input_len,)))\n",
        "model.add(layers.Dense(16, activation='relu'))\n",
        "model.add(layers.Dense(1, activation='sigmoid'))"
      ],
      "metadata": {
        "id": "fxxU3PShRjdV"
      },
      "execution_count": null,
      "outputs": []
    },
    {
      "cell_type": "code",
      "source": [
        "#This code is coppied from the following source:\n",
        "# https://inside-machinelearning.com/en/a-simple-and-efficient-model-for-binary-classification-in-nlp/#Create_our_Deep_Learning_model_-_Binary_Classification_NLP\n",
        "\n",
        "model.compile(optimizer='rmsprop',\n",
        "              loss='binary_crossentropy',\n",
        "              metrics=['accuracy'])\n",
        "\n",
        "history = model.fit(train_input_array,\n",
        "                    train_label_array,\n",
        "                    epochs=20,\n",
        "                    batch_size=1)"
      ],
      "metadata": {
        "colab": {
          "base_uri": "https://localhost:8080/"
        },
        "id": "Bcl9chkoRwqd",
        "outputId": "caaece79-06a5-4050-c881-3776780c78a3"
      },
      "execution_count": null,
      "outputs": [
        {
          "output_type": "stream",
          "name": "stdout",
          "text": [
            "Epoch 1/20\n",
            "1500/1500 [==============================] - 5s 3ms/step - loss: 112.0413 - accuracy: 0.4780\n",
            "Epoch 2/20\n",
            "1500/1500 [==============================] - 4s 3ms/step - loss: 0.6914 - accuracy: 0.5413\n",
            "Epoch 3/20\n",
            "1500/1500 [==============================] - 3s 2ms/step - loss: 0.6903 - accuracy: 0.5413\n",
            "Epoch 4/20\n",
            "1500/1500 [==============================] - 4s 2ms/step - loss: 0.6901 - accuracy: 0.5413\n",
            "Epoch 5/20\n",
            "1500/1500 [==============================] - 5s 3ms/step - loss: 0.6899 - accuracy: 0.5413\n",
            "Epoch 6/20\n",
            "1500/1500 [==============================] - 3s 2ms/step - loss: 0.6900 - accuracy: 0.5413\n",
            "Epoch 7/20\n",
            "1500/1500 [==============================] - 4s 3ms/step - loss: 0.6900 - accuracy: 0.5413\n",
            "Epoch 8/20\n",
            "1500/1500 [==============================] - 8s 5ms/step - loss: 0.6900 - accuracy: 0.5413\n",
            "Epoch 9/20\n",
            "1500/1500 [==============================] - 4s 2ms/step - loss: 0.6900 - accuracy: 0.5413\n",
            "Epoch 10/20\n",
            "1500/1500 [==============================] - 8s 6ms/step - loss: 0.6900 - accuracy: 0.5413\n",
            "Epoch 11/20\n",
            "1500/1500 [==============================] - 5s 3ms/step - loss: 0.6900 - accuracy: 0.5413\n",
            "Epoch 12/20\n",
            "1500/1500 [==============================] - 5s 3ms/step - loss: 0.6900 - accuracy: 0.5413\n",
            "Epoch 13/20\n",
            "1500/1500 [==============================] - 6s 4ms/step - loss: 0.6900 - accuracy: 0.5413\n",
            "Epoch 14/20\n",
            "1500/1500 [==============================] - 3s 2ms/step - loss: 0.6900 - accuracy: 0.5413\n",
            "Epoch 15/20\n",
            "1500/1500 [==============================] - 3s 2ms/step - loss: 0.6900 - accuracy: 0.5413\n",
            "Epoch 16/20\n",
            "1500/1500 [==============================] - 4s 3ms/step - loss: 0.6900 - accuracy: 0.5413\n",
            "Epoch 17/20\n",
            "1500/1500 [==============================] - 4s 3ms/step - loss: 0.6900 - accuracy: 0.5413\n",
            "Epoch 18/20\n",
            "1500/1500 [==============================] - 3s 2ms/step - loss: 0.6900 - accuracy: 0.5413\n",
            "Epoch 19/20\n",
            "1500/1500 [==============================] - 3s 2ms/step - loss: 0.6900 - accuracy: 0.5413\n",
            "Epoch 20/20\n",
            "1500/1500 [==============================] - 5s 3ms/step - loss: 0.6900 - accuracy: 0.5413\n"
          ]
        }
      ]
    },
    {
      "cell_type": "code",
      "source": [
        "#This code is coppied from the following source:\n",
        "# https://github.com/dilipvaleti/Binary-Classification-using-word2vect/blob/main/Classification%20using%20word2vect.ipynb\n",
        "\n",
        "from sklearn.ensemble import RandomForestClassifier\n",
        "\n",
        "train_input_array = np.array(train_input[:1500])\n",
        "train_label_array = np.array(train_label[:1500])\n",
        "\n",
        "test_input_array = np.array(train_input[1500:])\n",
        "test_label_array = np.array(train_label[1500:])\n",
        "\n",
        "rf = RandomForestClassifier()\n",
        "rf_model = rf.fit(train_input_array, train_label_array)\n",
        "\n",
        "y_pred = rf_model.predict(test_input_array)\n",
        "\n",
        "accuracy = (y_pred==test_label_array).sum()/len(y_pred)\n",
        "\n",
        "accuracy"
      ],
      "metadata": {
        "colab": {
          "base_uri": "https://localhost:8080/"
        },
        "id": "LIk54YxBzuTO",
        "outputId": "f69a8a93-3689-4c08-b154-66d33156b96b"
      },
      "execution_count": 27,
      "outputs": [
        {
          "output_type": "execute_result",
          "data": {
            "text/plain": [
              "0.5276073619631901"
            ]
          },
          "metadata": {},
          "execution_count": 27
        }
      ]
    }
  ]
}